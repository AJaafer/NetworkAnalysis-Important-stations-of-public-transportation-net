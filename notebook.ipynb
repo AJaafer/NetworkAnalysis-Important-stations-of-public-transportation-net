{
 "cells": [
  {
   "cell_type": "markdown",
   "metadata": {
    "_cell_guid": "eca36866-3392-4d65-8838-387bccc1d4bc",
    "_uuid": "240798b836ff68cbf5da2bed817ed6da9049be40"
   },
   "source": [
    "# Network Analysis: Important stations of public transportation \n",
    "\n",
    "### **Data** \n",
    "Subway stations and lines in Vienna 2018\n",
    "\n",
    "### **What?** \n",
    "- In this notebook, we will find out which stations could turn out to be some kind of **bootlenecks**. Think of ticket terminal breakdowns, overcrowded escalators or train cancellation at a station. Knowing the bottlenecks of a subway or any other transportation network could help to better maintain frequently travelled stations by knowing at which edge a failure would harm most. \n",
    "- Another use case concerning transportation networks is finding out which stations are **highly connected** with other lines. Imaging moving to Vienna. You want to know where exactly to move in order to not be dependent on one single subway line. Let's find out stations, which enable you to use as many different lines as possible. <p>\n",
    "\n",
    "### **Graph-theory**\n",
    "- Finding out bottleneck nodes within a network with **\"betweenness centrality\"**: <br> ... is the ratio between the \"number of shortest paths trough a node\" and \"all possible shortest paths\" in a graph. \n",
    "- Detecting highly connected nodes **\"degree centrality\"**: <br> ... counts the number of edges held by a node. <p>"
   ]
  },
  {
   "cell_type": "markdown",
   "metadata": {
    "_cell_guid": "736a4703-5046-4038-8a4c-f405806e1c6c",
    "_uuid": "4f86e0c92218d2560ffa5054599b5976779492d3"
   },
   "source": [
    "### 1. Import packages, load and prepare data"
   ]
  },
  {
   "cell_type": "code",
   "execution_count": null,
   "metadata": {
    "_cell_guid": "b1076dfc-b9ad-4769-8c92-a6c4dae69d19",
    "_uuid": "8f2839f25d086af736a60e9eeb907d3b93b6e0e5"
   },
   "outputs": [],
   "source": [
    "#import relevant packages\n",
    "import matplotlib.pyplot as plt\n",
    "import numpy as np \n",
    "import networkx as nx #package for creating, manipulating, and studying networks\n",
    "import pandas as pd "
   ]
  },
  {
   "cell_type": "code",
   "execution_count": null,
   "metadata": {
    "_cell_guid": "79c7e3d0-c299-4dcb-8224-4455121ee9b0",
    "_uuid": "d629ff2d2480ee46fbb7e2d37f6b5fab8052498a"
   },
   "outputs": [],
   "source": [
    "#load data\n",
    "stations = pd.read_csv('../input/Vienna subway.csv', sep=\";\")\n",
    "print(stations.sample(5))\n",
    "print(\"The dataset contains\", stations.shape[0], \"rows and\", stations.shape[1], \"columns.\")\n",
    "\n",
    "#define nodes of bikesharing network\n",
    "network = nx.from_pandas_edgelist(stations, 'Start', 'Stop')\n",
    "\n",
    "#get amount of stations and paths\n",
    "print('The subway in vienna consists of', len(network.nodes), 'different stations (nodes) and', \n",
    "      len(network.edges), 'connections (edges) between the stations.')"
   ]
  },
  {
   "cell_type": "markdown",
   "metadata": {
    "_cell_guid": "83d96ce6-c222-4ae2-9d71-6ab594606947",
    "_uuid": "192ab7261563a0a8af2484e9fed888bd80c1a88a"
   },
   "source": [
    "### 2. Betweenness centrality: Find out top 5 possible bottlenecks "
   ]
  },
  {
   "cell_type": "code",
   "execution_count": null,
   "metadata": {
    "_cell_guid": "a7989a7e-fb7b-4f37-9b1c-581c52a8b906",
    "_uuid": "d8b7af5c9532e5e8b47b98f8dd01885ff4598062",
    "collapsed": true
   },
   "outputs": [],
   "source": [
    "#compute betweenness centrality of stations\n",
    "bw_centrality = nx.betweenness_centrality(network)\n",
    "\n",
    "#convert items of bw_centrality dictionary into dataframe\n",
    "bw_centrality = pd.DataFrame(list(bw_centrality.items()))\n",
    "\n",
    "#rename columns of data frame\n",
    "bw_centrality.columns = [\"station\", \"betweenness_centrality\"]\n",
    "\n",
    "#show head rows of data frame\n",
    "bw_centrality.head()\n",
    "\n",
    "#get top 5 bottleneck stations\n",
    "bw_centrality.sort_values(by=\"betweenness_centrality\", ascending=False).iloc[:5,:]"
   ]
  },
  {
   "cell_type": "markdown",
   "metadata": {
    "_uuid": "0f0b106bfbaf9111df0dcb69fc6fe1a0edc89e4f"
   },
   "source": [
    "### 3. Degree centrality: Find out top 5 connected stations"
   ]
  },
  {
   "cell_type": "code",
   "execution_count": null,
   "metadata": {},
   "outputs": [],
   "source": [
    "#compute degree centrality of stations\n",
    "dg_centrality = nx.degree_centrality(network)\n",
    "\n",
    "#convert items of bw_centrality dictionary into dataframe\n",
    "dg_centrality = pd.DataFrame(list(dg_centrality.items()))\n",
    "\n",
    "#rename columns of data frame\n",
    "dg_centrality.columns = [\"station\", \"degree_centrality\"]\n",
    "\n",
    "#show head rows of data frame\n",
    "dg_centrality.head()\n",
    "\n",
    "#get top 5 bottleneck stations\n",
    "dg_centrality.sort_values(by=\"degree_centrality\", ascending=False).iloc[:5,:]"
   ]
  },
  {
   "cell_type": "markdown",
   "metadata": {
    "_uuid": "a4ec6fa9acce4b470a86e2be1c22bd81a3d79acb"
   },
   "source": [
    "### 4. Visualization"
   ]
  },
  {
   "cell_type": "code",
   "execution_count": null,
   "metadata": {
    "_uuid": "1d64399a61bf22fd385808a3206f2309ed23a99a",
    "collapsed": true
   },
   "outputs": [],
   "source": [
    "#als metadatum speichern und in graph anzeigen\n",
    "\n",
    "#graph ascending nach centraltiy ordnen\n",
    "\n",
    "#Matrix\n",
    "\n",
    "#ArcPlot"
   ]
  },
  {
   "cell_type": "markdown",
   "metadata": {
    "_cell_guid": "e5968989-d357-4e8e-9e6f-1e5d9568fda6",
    "_uuid": "673edaccdc63eb49be17bc9ba3f15bb0abd54d99"
   },
   "source": [
    "### 5. Plausibility check and intepretation"
   ]
  },
  {
   "cell_type": "markdown",
   "metadata": {
    "_cell_guid": "d9bb9263-9686-466b-a4ff-54c785eba363",
    "_uuid": "8608f054db6d4ab557ebe15ad73ce947f9458cc9"
   },
   "source": [
    "Go and assess yourself whether Karlsplatz, Schwedenplatz, Praterstern, Stephansplatz and Laengenfeldgasse should be considered as a bottleneck of subway transportation in vienna and expecially taken care of!\n",
    "![](http://homepage.univie.ac.at/horst.prillinger/ubahn/m/largemap.png)\n"
   ]
  }
 ],
 "metadata": {
  "kernelspec": {
   "display_name": "Python 3",
   "language": "python",
   "name": "python3"
  },
  "language_info": {
   "codemirror_mode": {
    "name": "ipython",
    "version": 3
   },
   "file_extension": ".py",
   "mimetype": "text/x-python",
   "name": "python",
   "nbconvert_exporter": "python",
   "pygments_lexer": "ipython3",
   "version": "3.6.4"
  }
 },
 "nbformat": 4,
 "nbformat_minor": 1
}
